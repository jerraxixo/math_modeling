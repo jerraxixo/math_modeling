{
  "nbformat": 4,
  "nbformat_minor": 0,
  "metadata": {
    "colab": {
      "provenance": []
    },
    "kernelspec": {
      "name": "python3",
      "display_name": "Python 3"
    },
    "language_info": {
      "name": "python"
    }
  },
  "cells": [
    {
      "cell_type": "code",
      "execution_count": 1,
      "metadata": {
        "id": "h_oLeJN1lQdq"
      },
      "outputs": [],
      "source": [
        "import numpy as np"
      ]
    },
    {
      "cell_type": "code",
      "source": [
        "# проверка положительных оценок\n",
        "def continue_solve(mark_in):\n",
        "    score = np.copy(mark_in)\n",
        "    score = score[1:]\n",
        "    for i in score:\n",
        "        if i > 0:\n",
        "            return True,\n",
        "    return False\n",
        "\n",
        "# вычисление оценки\n",
        "def get_mark(matrix, function, basis):\n",
        "    c_basis = []\n",
        "    for i in basis:\n",
        "        c_basis.append(function[i - 1])\n",
        "    score = np.dot(c_basis, matrix) - (np.append([0], function))\n",
        "    return score\n",
        "\n",
        "# получение базиса\n",
        "def get_basis(matrix):\n",
        "    basis = []\n",
        "    for i in range(len(matrix)):\n",
        "        basis.append(matrix.shape[1] - len(matrix) + i)\n",
        "    return basis\n",
        "\n",
        "# добавление переменных к матрице и функции\n",
        "def add_slack_variables(matrix, function):\n",
        "    matrix = np.concatenate((matrix, np.eye(matrix.shape[0])), axis=1)\n",
        "    function = np.append(function, matrix.shape[0] * [0])\n",
        "    return matrix, function\n",
        "\n",
        "# пересчет мартрицы\n",
        "def recount(matrix_in, index_input, index_output):\n",
        "    matrix = matrix_in.copy()\n",
        "    k = matrix[index_output][index_input]\n",
        "    matrix[index_output] /= k\n",
        "\n",
        "    for i in range(len(matrix)):\n",
        "        if i != index_output:\n",
        "            matrix[i] -= matrix[i][index_input] * matrix[index_output]\n",
        "    return matrix\n",
        "\n",
        "\n",
        "def get_index_output(index_input, matrix_in):\n",
        "    matrix = np.copy(matrix_in)\n",
        "    p_0 = matrix[:, 0]\n",
        "    p_i = matrix[:, index_input]\n",
        "\n",
        "    # exclude division by zero\n",
        "    p_i[p_i == 0] = -1\n",
        "\n",
        "    teta = p_0 / p_i\n",
        "    teta = np.where(teta > 0, teta, np.inf)\n",
        "    index_output = teta.argmin()\n",
        "\n",
        "    if teta[index_output] == np.inf:\n",
        "        raise Exception(\"Not solution\")\n",
        "    else:\n",
        "        return index_output\n",
        "\n",
        "\n",
        "def solve(matrix, function, basis):\n",
        "    score = get_mark(matrix, function, basis)\n",
        "    flag = continue_solve(score)\n",
        "\n",
        "    # main loop\n",
        "    while flag:\n",
        "\n",
        "        index_input = np.argmax(score)\n",
        "        index_output = get_index_output(index_input, matrix)\n",
        "\n",
        "        matrix = recount(matrix, index_input, index_output)\n",
        "\n",
        "        basis[index_output] = index_input\n",
        "\n",
        "        score = get_mark(matrix, function, basis)\n",
        "        flag = continue_solve(score)\n",
        "\n",
        "    return matrix, function, basis\n",
        "\n",
        "\n",
        "def get_canonical_form(a, b, c):\n",
        "    matrix = np.copy(a)\n",
        "    vector = np.copy(b)\n",
        "    function = np.copy(c)\n",
        "\n",
        "    matrix = np.concatenate((vector.T, matrix), axis=1)\n",
        "    matrix, function = add_slack_variables(matrix, function)\n",
        "    basis = get_basis(matrix)\n",
        "\n",
        "    return matrix, function, basis\n",
        "\n",
        "\n",
        "def simplex_method(matrix, function, basis):\n",
        "    matrix, function, basis = solve(matrix, function, basis)\n",
        "    mark = get_mark(matrix, function, basis)\n",
        "\n",
        "    p_0 = matrix[:, 0]\n",
        "\n",
        "    x = np.zeros(len(C))\n",
        "\n",
        "    for i in range(len(basis)):\n",
        "        if (basis[i] - 1) < len(C):\n",
        "            x[basis[i] - 1] = p_0[i]\n",
        "\n",
        "    print(f\"x = {x}\")\n",
        "    print(f\"result = {mark[0] * mm_scaler}\")"
      ],
      "metadata": {
        "id": "0Mwx59IHlekn"
      },
      "execution_count": 68,
      "outputs": []
    },
    {
      "cell_type": "code",
      "source": [
        "def read_from_file(input_file):\n",
        "    file =  open(input_file)\n",
        "    lines = file.read().splitlines()\n",
        "    ineqs = {'<=','>='}\n",
        "\n",
        "    objective = lines[0].split()\n",
        "\n",
        "    if objective[-1] == 'min':\n",
        "        objective_scaler = 1\n",
        "    elif objective[-1] == 'max':\n",
        "        objective_scaler = -1\n",
        "    else:\n",
        "        raise AssertionError('ошибка ввода')\n",
        "\n",
        "    c = list(map(float, objective[:-2]))\n",
        "    A = []\n",
        "    b = []\n",
        "    for line in lines[1:]:\n",
        "        row = []\n",
        "        ineq_sign = 0\n",
        "        for val in line.split():\n",
        "            if val not in ineqs:\n",
        "                row.append(float(val))\n",
        "            elif val in ineqs and ineq_sign == 0:\n",
        "                if val == '<=':\n",
        "                    ineq_sign = 1\n",
        "                else:\n",
        "                    ineq_sign = -1\n",
        "        if ineq_sign != 0:\n",
        "            row = np.array(row) * ineq_sign\n",
        "        else:\n",
        "            raise AssertionError('ошибка ввода')\n",
        "        A.append(row[:-1])\n",
        "        b.append(row[-1])\n",
        "\n",
        "    A = np.array(A[:-A[1].shape[0]])\n",
        "    b = np.array([b[:-A[1].shape[0]]])\n",
        "    c = np.array(c) * objective_scaler\n",
        "\n",
        "    return A, b, c , objective_scaler"
      ],
      "metadata": {
        "id": "NKOgnSCcoZA2"
      },
      "execution_count": 67,
      "outputs": []
    },
    {
      "cell_type": "code",
      "source": [
        "input_file = 'test.txt'"
      ],
      "metadata": {
        "id": "AADbbtk_p47F"
      },
      "execution_count": 66,
      "outputs": []
    },
    {
      "cell_type": "markdown",
      "source": [
        "$36*x_1 +10*x_2+ 60*x_3 → max$\n",
        "\n",
        "$12*x_1 + 8*x_2 + 4*x_3 \\leq 136$\n",
        "\n",
        "$4*x_1 + 6*x_2 + 12*x_3 \\leq 120$\n",
        "\n",
        "$x_1,x_2,x_3 \\geq 0$"
      ],
      "metadata": {
        "id": "z9V2UTSA1zaI"
      }
    },
    {
      "cell_type": "code",
      "source": [
        "A, B, C, mm_scaler = read_from_file(input_file)\n",
        "\n",
        "mat, fun, bas = get_canonical_form(A, B, C)\n",
        "simplex_method(mat, fun, bas)"
      ],
      "metadata": {
        "colab": {
          "base_uri": "https://localhost:8080/"
        },
        "id": "doU1-Ip2pu_A",
        "outputId": "d8dcbb3a-361b-4eec-a1c3-9fcf40e2b9cb"
      },
      "execution_count": 70,
      "outputs": [
        {
          "output_type": "stream",
          "name": "stdout",
          "text": [
            "x = [9. 0. 7.]\n",
            "result = 744.0\n"
          ]
        }
      ]
    }
  ]
}